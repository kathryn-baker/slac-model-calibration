{
 "cells": [
  {
   "attachments": {},
   "cell_type": "markdown",
   "id": "86242eb5",
   "metadata": {},
   "source": [
    "# EDA Model Training vs Real Distributions"
   ]
  },
  {
   "attachments": {},
   "cell_type": "markdown",
   "id": "2c9df8bc-c0d9-42ac-a59d-cf100b6eac10",
   "metadata": {},
   "source": [
    "## Constant Fluctuations\n",
    "The NN model was trained assuming that the following input values were always constant:\n",
    "* `distgen:total_charge:value`\n",
    "* `L0A_scale:voltage`\n",
    "* `L0B_scale:voltage`\n",
    "\n",
    "In order to validate whether that's true and whether their instability during live production will disrupt training, we want to see how much these values fluctuate in real machine behaviour over a day."
   ]
  },
  {
   "cell_type": "code",
   "execution_count": null,
   "id": "01bfd2bd-22fc-426a-a4e9-d2e9b6494bad",
   "metadata": {
    "tags": []
   },
   "outputs": [],
   "source": [
    "import json\n",
    "import pandas as pd\n",
    "import numpy as np\n",
    "import matplotlib.pyplot as plt\n",
    "from pprint import pprint"
   ]
  },
  {
   "cell_type": "code",
   "execution_count": null,
   "id": "21411a1b",
   "metadata": {},
   "outputs": [],
   "source": [
    "time_series = pd.read_pickle('data/full_2022-09-23_12_18_58-07_00__2022-09-23_23_03_01-07_00.pkl')\n",
    "print(time_series.columns)"
   ]
  },
  {
   "cell_type": "code",
   "execution_count": null,
   "id": "980f9515-1888-47db-ae6e-47701096b003",
   "metadata": {
    "tags": []
   },
   "outputs": [],
   "source": [
    "# time_series = pd.read_pickle('data/relevant_2022-09-23_12_18_58-07_00__2022-09-23_23_03_01-07_00.pkl')"
   ]
  },
  {
   "cell_type": "code",
   "execution_count": null,
   "id": "6993e2d1-e402-4008-9ee9-2570e7454459",
   "metadata": {
    "tags": []
   },
   "outputs": [],
   "source": [
    "with open('configs/pv_info.json', 'r') as f:\n",
    "    pv_info = json.load(f)\n",
    "    f.close()"
   ]
  },
  {
   "cell_type": "code",
   "execution_count": null,
   "id": "488279a8-8427-46d2-bc2d-6e348ed2af30",
   "metadata": {
    "tags": []
   },
   "outputs": [],
   "source": [
    "constants = ['distgen:total_charge:value', 'L0A_scale:voltage', 'L0B_scale:voltage']\n",
    "pv_constants = [pv_info['sim_name_to_pv_name'][constant] for constant in constants]\n",
    "print(pv_constants)"
   ]
  },
  {
   "cell_type": "code",
   "execution_count": null,
   "id": "7dfb3708-656d-42f3-a906-2bb42cec41a1",
   "metadata": {
    "tags": []
   },
   "outputs": [],
   "source": [
    "constant_df = time_series[pv_constants].dropna()"
   ]
  },
  {
   "cell_type": "code",
   "execution_count": null,
   "id": "7d366c1d-fa05-41f5-8972-332e26ac51ab",
   "metadata": {
    "tags": []
   },
   "outputs": [],
   "source": [
    "constant_df.describe()"
   ]
  },
  {
   "cell_type": "code",
   "execution_count": null,
   "id": "08cb655a-1ad0-4cb9-bfd1-8f10dbc3bfb6",
   "metadata": {
    "tags": []
   },
   "outputs": [],
   "source": [
    "constant_df.hist()\n",
    "plt.show()"
   ]
  },
  {
   "cell_type": "code",
   "execution_count": null,
   "id": "04a2eff5-caa0-44fc-bf18-c31f25ed1ded",
   "metadata": {
    "tags": []
   },
   "outputs": [],
   "source": [
    "sim_constant_df = pd.DataFrame()\n",
    "\n",
    "# convert the PV values back to sim values\n",
    "for sim_name, col_name in zip(constants, constant_df.columns):\n",
    "    series = constant_df[col_name] * pv_info['pv_to_sim_factor'][col_name]\n",
    "    sim_constant_df[sim_name] = series\n",
    "    \n",
    "sim_constant_df.hist()\n",
    "plt.show()"
   ]
  },
  {
   "cell_type": "code",
   "execution_count": null,
   "id": "2fa1319e-8ba1-4a8a-ae63-50d4e04aa90d",
   "metadata": {
    "tags": []
   },
   "outputs": [],
   "source": [
    "sim_constant_df.describe()"
   ]
  },
  {
   "attachments": {},
   "cell_type": "markdown",
   "id": "f53f3b81",
   "metadata": {},
   "source": [
    "## Input Ranges"
   ]
  },
  {
   "cell_type": "code",
   "execution_count": null,
   "id": "31be836c",
   "metadata": {},
   "outputs": [],
   "source": [
    "with open('configs/model_info.json', 'r') as f:\n",
    "    model_info = json.load(f)\n",
    "    f.close()"
   ]
  },
  {
   "cell_type": "code",
   "execution_count": null,
   "id": "83f0dccf",
   "metadata": {},
   "outputs": [],
   "source": [
    "input_features = []\n",
    "for feature in model_info['model_in_list']:\n",
    "    # find the pvname for this feature\n",
    "    pv_name = pv_info['sim_name_to_pv_name'][feature]\n",
    "    if pv_name not in ['Pulse_length']:\n",
    "        input_features.append(pv_name.replace('BDES','BCTRL'))\n",
    "\n",
    "input_features\n"
   ]
  },
  {
   "cell_type": "code",
   "execution_count": null,
   "id": "1cba796b",
   "metadata": {},
   "outputs": [],
   "source": [
    "len(input_features)"
   ]
  },
  {
   "cell_type": "code",
   "execution_count": null,
   "id": "dace6d06",
   "metadata": {},
   "outputs": [],
   "source": [
    "fig, ax = plt.subplots(3,5, figsize=(15,8))\n",
    "ax = ax.ravel()\n",
    "\n",
    "for i, input_name in enumerate(input_features):\n",
    "    # plot the histogram of the real data\n",
    "    sim_name = pv_info['pv_name_to_sim_name'][input_name.replace('BCTRL', 'BDES')]\n",
    "    ax[i].set_title(input_name)\n",
    "\n",
    "    # plot the range that was used during training using the sim to pv conversion\n",
    "    sim_to_pv_factor = pv_info['sim_to_pv_factor'][sim_name]\n",
    "    input_loc = model_info['loc_in'][sim_name]\n",
    "    # print(sim_name, sim_to_pv_factor)\n",
    "    train_min = model_info['train_input_mins'][input_loc] * sim_to_pv_factor\n",
    "    train_max = model_info['train_input_maxs'][input_loc] * sim_to_pv_factor\n",
    "\n",
    "    ax[i].axvline(train_min, c='r')\n",
    "    ax[i].axvline(train_max, c='r')\n",
    "\n",
    "    time_series[input_name].hist(ax=ax[i])\n",
    "\n",
    "fig.tight_layout()\n",
    "plt.show()"
   ]
  },
  {
   "cell_type": "code",
   "execution_count": null,
   "id": "94cce830",
   "metadata": {},
   "outputs": [],
   "source": [
    "fig, ax = plt.subplots()\n",
    "# ax = ax.ravel()\n",
    "input_name = 'QUAD:IN20:441:BCTRL'\n",
    "print(time_series[input_name].describe())\n",
    "print(time_series[input_name].info())\n",
    "\n",
    "# plot the histogram of the real data\n",
    "sim_name = pv_info['pv_name_to_sim_name'][input_name.replace('BCTRL', 'BDES')]\n",
    "ax.set_title(f'{input_name} | {sim_name}')\n",
    "\n",
    "# plot the range that was used during training using the sim to pv conversion\n",
    "sim_to_pv_factor = pv_info['sim_to_pv_factor'][sim_name]\n",
    "input_loc = model_info['loc_in'][sim_name]\n",
    "train_min = model_info['train_input_mins'][input_loc] * sim_to_pv_factor\n",
    "train_max = model_info['train_input_maxs'][input_loc] * sim_to_pv_factor\n",
    "\n",
    "ax.axvline(train_min, c='r')\n",
    "ax.axvline(train_max, c='r')\n",
    "\n",
    "time_series[input_name].hist(ax=ax)\n",
    "\n",
    "plt.show()"
   ]
  }
 ],
 "metadata": {
  "kernelspec": {
   "display_name": "Python 3 (ipykernel)",
   "language": "python",
   "name": "python3"
  },
  "language_info": {
   "codemirror_mode": {
    "name": "ipython",
    "version": 3
   },
   "file_extension": ".py",
   "mimetype": "text/x-python",
   "name": "python",
   "nbconvert_exporter": "python",
   "pygments_lexer": "ipython3",
   "version": "3.10.9"
  }
 },
 "nbformat": 4,
 "nbformat_minor": 5
}
