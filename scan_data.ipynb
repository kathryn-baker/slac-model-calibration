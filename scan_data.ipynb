{
 "cells": [
  {
   "cell_type": "code",
   "execution_count": null,
   "metadata": {},
   "outputs": [],
   "source": [
    "# set it up to autoreload updates\n",
    "%load_ext autoreload\n",
    "%autoreload 2\n",
    "\n",
    "import pandas as pd\n",
    "import matplotlib.pyplot as plt\n",
    "import numpy as np\n",
    "from datetime import datetime, timedelta\n",
    "from utils import get_date_from_df\n",
    "import json"
   ]
  },
  {
   "cell_type": "code",
   "execution_count": null,
   "metadata": {},
   "outputs": [],
   "source": [
    "with open('configs/pv_info.json', 'r') as f:\n",
    "    pv_info = json.load(f)\n",
    "    f.close()\n",
    "\n",
    "with open('configs/model_info.json', 'r') as f:\n",
    "    model_info = json.load(f)\n",
    "    f.close()"
   ]
  },
  {
   "cell_type": "code",
   "execution_count": null,
   "metadata": {},
   "outputs": [],
   "source": [
    "from configs.ref_config import ref_point\n",
    "\n",
    "ref_point = ref_point[0]\n",
    "ignored_features = ['ACCL:IN20:400:L0B_ADES', 'Pulse_length', 'FBCK:BCI0:1:CHRG_S']\n",
    "\n",
    "def overwrite_ignored_features(time_series, model_info, pv_info, ref_point, ignored_features):\n",
    "    for pvname in ignored_features:\n",
    "        sim_name = pv_info['pv_name_to_sim_name'][pvname]\n",
    "        # ref points are in sim values so we need to convert to pv_units\n",
    "        feature_loc = model_info['loc_in'][sim_name]\n",
    "        reference_val = pv_info['sim_to_pv_factor'][sim_name] * ref_point[feature_loc]\n",
    "        time_series[pvname] = reference_val\n",
    "        print(f'reset {pvname} to {reference_val}')\n",
    "    return time_series"
   ]
  },
  {
   "cell_type": "code",
   "execution_count": null,
   "metadata": {},
   "outputs": [],
   "source": [
    "cols = ['QUAD:IN20:525:BACT','OTRS:IN20:571:XRMS', 'OTRS:IN20:571:YRMS']\n",
    "subset_val_data = pd.read_pickle('archive_data/val_df.pkl')\n",
    "\n",
    "# find the date of the scan data and read in the full time range\n",
    "date = get_date_from_df(subset_val_data)\n",
    "val_data = pd.read_pickle(f'archive_data/injector_{date}.pkl')\n",
    "\n",
    "# update the raw validation data with the changes we make to the training data itself\n",
    "val_data['CAMR:IN20:186:R_DIST'] = np.sqrt(val_data['CAMR:IN20:186:XRMS'].values**2 + val_data['CAMR:IN20:186:YRMS'].values**2)\n",
    "val_data = overwrite_ignored_features(val_data, model_info, pv_info, ref_point, ignored_features)\n",
    "\n",
    "print(all(item in val_data.columns for item in subset_val_data.columns))"
   ]
  },
  {
   "cell_type": "code",
   "execution_count": null,
   "metadata": {},
   "outputs": [],
   "source": [
    "val_data.info()"
   ]
  },
  {
   "cell_type": "code",
   "execution_count": null,
   "metadata": {},
   "outputs": [],
   "source": [
    "start = val_data.index[0]\n",
    "for _ in range(7):\n",
    "    end = start + timedelta(hours=1)\n",
    "    fig, ax = plt.subplots(2,1, figsize=(12,8))\n",
    "    ax[0].plot(val_data[str(start):str(end)][cols[0]], label=cols[0])\n",
    "    ax[1].plot(val_data[str(start):str(end)][cols[1]], label=cols[1])\n",
    "    ax[1].plot(val_data[str(start):str(end)][cols[2]], label=cols[2])\n",
    "\n",
    "    ax[1].legend()\n",
    "    fig.tight_layout()\n",
    "    plt.show()\n",
    "    start = end"
   ]
  },
  {
   "cell_type": "code",
   "execution_count": null,
   "metadata": {},
   "outputs": [],
   "source": [
    "scans = val_data[(val_data['OTRS:IN20:571:YRMS'] < 600) & (val_data['OTRS:IN20:571:YRMS'] > 10) & (val_data['OTRS:IN20:571:XRMS'] > 10)]['2021-11-18 03:00:00-08:00': '2021-11-18 04:35:00-08:00']\n",
    "fig, ax = plt.subplots(2,1,figsize=(30,8))\n",
    "ax[0].plot(scans[cols[0]], label=cols[0])\n",
    "ax[1].plot(scans[cols[1]], label=cols[1])\n",
    "ax[1].plot(scans[cols[2]], label=cols[2])\n",
    "\n",
    "ax[1].legend()\n",
    "fig.tight_layout()\n",
    "plt.show()"
   ]
  },
  {
   "cell_type": "code",
   "execution_count": null,
   "metadata": {},
   "outputs": [],
   "source": [
    "start = scans.index[0]\n",
    "for _ in range(4):\n",
    "    end = start + timedelta(hours=0.5)\n",
    "    fig, ax = plt.subplots(2,1, figsize=(12,8))\n",
    "    ax[0].plot(scans[str(start):str(end)][cols[0]], label=cols[0])\n",
    "    ax[1].plot(scans[str(start):str(end)][cols[1]], label=cols[1])\n",
    "    ax[1].plot(scans[str(start):str(end)][cols[2]], label=cols[2])\n",
    "\n",
    "    ax[1].legend()\n",
    "    fig.tight_layout()\n",
    "    if len(scans[str(start):str(end)][cols[0]]) > 10:\n",
    "        plt.show()\n",
    "    start = end"
   ]
  },
  {
   "cell_type": "code",
   "execution_count": null,
   "metadata": {},
   "outputs": [],
   "source": [
    "from plotting import interactive_plot, plot_scans"
   ]
  },
  {
   "cell_type": "code",
   "execution_count": null,
   "metadata": {},
   "outputs": [],
   "source": [
    "interactive_plot(scans, cols=cols)"
   ]
  },
  {
   "cell_type": "code",
   "execution_count": null,
   "metadata": {},
   "outputs": [],
   "source": [
    "scan_periods = [\n",
    "\n",
    "    # (\"2021-12-09 01:32:15-0800\", \"2021-12-09 01:33:02-0800\"),\n",
    "    # (\"2021-12-09 01:41:36-0800\", \"2021-12-09 01:42:17-0800\"),\n",
    "    (\"2021-11-18 03:02:00-0800\", \"2021-11-18 03:07:00-0800\"),\n",
    "    (\"2021-11-18 03:37:00-0800\", \"2021-11-18 03:40:00-0800\"),\n",
    "    (\"2021-11-18 04:15:36-0800\", \"2021-11-18 04:18:17-0800\"),\n",
    "]\n",
    "plot_scans(scans, scan_periods, otr_name='OTRS:IN20:571', quad_name='QUAD:IN20:525:BACT')\n",
    "for i, (start, end) in enumerate(scan_periods):\n",
    "    scan_df = scans[str(start):str(end)]\n",
    "    scan_df.to_pickle(f'archive_data/val_scan_{i}.pkl')"
   ]
  },
  {
   "cell_type": "code",
   "execution_count": null,
   "metadata": {},
   "outputs": [],
   "source": [
    "features = ['CAMR:IN20:186:R_DIST',\n",
    " 'Pulse_length',\n",
    " 'FBCK:BCI0:1:CHRG_S',\n",
    " 'SOLN:IN20:121:BACT',\n",
    " 'QUAD:IN20:121:BACT',\n",
    " 'QUAD:IN20:122:BACT',\n",
    " 'ACCL:IN20:300:L0A_ADES',\n",
    " 'ACCL:IN20:300:L0A_PDES',\n",
    " 'ACCL:IN20:400:L0B_ADES',\n",
    " 'ACCL:IN20:400:L0B_PDES',\n",
    " 'QUAD:IN20:361:BACT',\n",
    " 'QUAD:IN20:371:BACT',\n",
    " 'QUAD:IN20:425:BACT',\n",
    " 'QUAD:IN20:441:BACT',\n",
    " 'QUAD:IN20:511:BACT',\n",
    " 'QUAD:IN20:525:BACT']"
   ]
  },
  {
   "cell_type": "code",
   "execution_count": null,
   "metadata": {},
   "outputs": [],
   "source": [
    "scan_df.head()"
   ]
  },
  {
   "cell_type": "code",
   "execution_count": null,
   "metadata": {},
   "outputs": [],
   "source": []
  },
  {
   "cell_type": "code",
   "execution_count": null,
   "metadata": {},
   "outputs": [],
   "source": [
    "test = scans[scan_periods[0][0]:scan_periods[0][1]].copy()\n",
    "oidx = test.index\n",
    "nidx = pd.date_range(oidx.min(), oidx.max(), freq='1s')\n",
    "res = test.reindex(oidx.union(nidx)).interpolate(method='linear',order=2).reindex(nidx)\n",
    "# interpolated = test_s.interpolate(method='linear')\n",
    "# interpolated\n",
    "res\n",
    "fig, ax = plt.subplots()\n",
    "ax.scatter(res['QUAD:IN20:525:BACT'], res['OTRS:IN20:571:XRMS'])\n",
    "ax.scatter(res['QUAD:IN20:525:BACT'], res['OTRS:IN20:571:YRMS'])\n",
    "plt.show()"
   ]
  },
  {
   "cell_type": "code",
   "execution_count": null,
   "metadata": {},
   "outputs": [],
   "source": [
    "fig, ax = plt.subplots()\n",
    "ax.scatter(res['QUAD:IN20:525:BACT'], res['OTRS:IN20:571:XRMS'])\n",
    "ax.scatter(res['QUAD:IN20:525:BACT'], res['OTRS:IN20:571:YRMS'])\n",
    "plt.show()"
   ]
  },
  {
   "cell_type": "code",
   "execution_count": null,
   "metadata": {},
   "outputs": [],
   "source": [
    "# for start, end in scan_periods:\n",
    "    # scan_data = scans[str(start):str(end)]\n",
    "plot_scans(scans, scan_periods, otr_name='OTRS:IN20:571', quad_name='QUAD:IN20:525:BACT')"
   ]
  },
  {
   "cell_type": "code",
   "execution_count": null,
   "metadata": {},
   "outputs": [],
   "source": [
    "fig, ax = plt.subplots(2,1,figsize=(30,8))\n",
    "ax[0].plot(scans[cols[0]], label=cols[0])\n",
    "ax[1].plot(scans[cols[1]], label=cols[1])\n",
    "ax[1].plot(scans[cols[2]], label=cols[2])\n",
    "\n",
    "ax[1].legend()\n",
    "fig.tight_layout()\n",
    "plt.show()\n"
   ]
  }
 ],
 "metadata": {
  "kernelspec": {
   "display_name": "lume-epics-dev",
   "language": "python",
   "name": "python3"
  },
  "language_info": {
   "codemirror_mode": {
    "name": "ipython",
    "version": 3
   },
   "file_extension": ".py",
   "mimetype": "text/x-python",
   "name": "python",
   "nbconvert_exporter": "python",
   "pygments_lexer": "ipython3",
   "version": "3.9.16"
  },
  "orig_nbformat": 4
 },
 "nbformat": 4,
 "nbformat_minor": 2
}
